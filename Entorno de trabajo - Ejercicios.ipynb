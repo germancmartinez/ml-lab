{
 "cells": [
  {
   "cell_type": "code",
   "execution_count": 55,
   "metadata": {
    "scrolled": true
   },
   "outputs": [
    {
     "name": "stdout",
     "output_type": "stream",
     "text": [
      "Ingrese su nombre: german\n",
      "Ingrese su edad: 31\n",
      "En el 2087 vas a cumplir 100 años!!\n"
     ]
    }
   ],
   "source": [
    "## Ejercicio 1\n",
    "import datetime as dt\n",
    "nombre = input(\"Ingrese su nombre: \")\n",
    "edad = int(input(\"Ingrese su edad: \"))\n",
    "anoactual = dt.datetime.now().year\n",
    "print(\"En el \" + str(anoactual-edad+100) + \" vas a cumplir 100 años!!\")"
   ]
  },
  {
   "cell_type": "code",
   "execution_count": 60,
   "metadata": {},
   "outputs": [
    {
     "name": "stdout",
     "output_type": "stream",
     "text": [
      "Ingrese un número: 7\n",
      "Es impar\n"
     ]
    }
   ],
   "source": [
    "## Ejercicio 2\n",
    "numero = int(input(\"Ingrese un número: \"))\n",
    "if numero % 2 == 0: \n",
    "    print(\"Es par\") \n",
    "else: \n",
    "    print(\"Es impar\")\n"
   ]
  },
  {
   "cell_type": "code",
   "execution_count": 57,
   "metadata": {},
   "outputs": [
    {
     "name": "stdout",
     "output_type": "stream",
     "text": [
      "[1, 2, 3, 4]\n"
     ]
    }
   ],
   "source": [
    "## Ejercicio 3\n",
    "lista = [1, 9, 2, 3, 4, 10, 5, 14, 23]\n",
    "resultado = []\n",
    "for i in lista:\n",
    "    if (i < 5):\n",
    "        resultado.append(i)\n",
    "print(resultado)"
   ]
  },
  {
   "cell_type": "code",
   "execution_count": 53,
   "metadata": {},
   "outputs": [
    {
     "name": "stdout",
     "output_type": "stream",
     "text": [
      "Ingrese un número: 23\n",
      "[1, 23]\n"
     ]
    }
   ],
   "source": [
    "## Ejercicio 4\n",
    "numero = int(input(\"Ingrese un número: \"))\n",
    "aux = range(1, numero+1)\n",
    "resultado = []\n",
    "for i in aux:\n",
    "    if numero % i == 0:\n",
    "        resultado.append(i)\n",
    "print(resultado)"
   ]
  },
  {
   "cell_type": "code",
   "execution_count": 54,
   "metadata": {},
   "outputs": [
    {
     "name": "stdout",
     "output_type": "stream",
     "text": [
      "[3, 4, 5, 6]\n"
     ]
    }
   ],
   "source": [
    "## Ejercicio 5\n",
    "lista1 = [1,2,3,4,5,6,7,8,9,10]\n",
    "lista2 = [3,4,5,6,11,12,13]\n",
    "\n",
    "comun = []\n",
    "\n",
    "if len(lista1) <= len(lista2):\n",
    "    for i in lista1:\n",
    "        if i in lista2 and i not in comun:\n",
    "            comun.append(i)\n",
    "else:\n",
    "    for j in lista2:\n",
    "        if j in lista1 and j not in comun:\n",
    "            comun.append(j)\n",
    "            \n",
    "print(comun)"
   ]
  },
  {
   "cell_type": "code",
   "execution_count": 46,
   "metadata": {},
   "outputs": [
    {
     "name": "stdout",
     "output_type": "stream",
     "text": [
      "Ingrese una fraseaaaaa bbbbb\n",
      "La frase ingresada no es un palíndromo!\n"
     ]
    }
   ],
   "source": [
    "## Ejercicio 6\n",
    "texto = input(\"Ingrese una frase \")\n",
    "textomod = texto.replace(' ','')\n",
    "textoinv = textomod[::-1]\n",
    "if textoinv == textomod:\n",
    "    print(\"La frase ingresada es un palíndromo\")\n",
    "else:\n",
    "    print(\"La frase ingresada no es un palíndromo\")"
   ]
  },
  {
   "cell_type": "code",
   "execution_count": 58,
   "metadata": {},
   "outputs": [
    {
     "name": "stdout",
     "output_type": "stream",
     "text": [
      "[2, 4, 6, 8, 10]\n"
     ]
    }
   ],
   "source": [
    "## Ejercicio 7\n",
    "lista = [1,2,3,4,5,6,7,8,9,10]\n",
    "result = [x for x in lista if x % 2 == 0]\n",
    "print(result)"
   ]
  },
  {
   "cell_type": "code",
   "execution_count": 59,
   "metadata": {},
   "outputs": [
    {
     "name": "stdout",
     "output_type": "stream",
     "text": [
      "[3, 4, 5, 6]\n"
     ]
    }
   ],
   "source": [
    "## Ejercicio 10\n",
    "lista1 = [1,2,3,4,5,6,7,8,9,10]\n",
    "lista2 = [3,4,5,6,11,12,13]\n",
    "\n",
    "result = [x for x in set(lista1) for y in set(lista2) if x == y]\n",
    "\n",
    "print(result)"
   ]
  },
  {
   "cell_type": "code",
   "execution_count": null,
   "metadata": {},
   "outputs": [],
   "source": []
  }
 ],
 "metadata": {
  "kernelspec": {
   "display_name": "Python 3",
   "language": "python",
   "name": "python3"
  },
  "language_info": {
   "codemirror_mode": {
    "name": "ipython",
    "version": 3
   },
   "file_extension": ".py",
   "mimetype": "text/x-python",
   "name": "python",
   "nbconvert_exporter": "python",
   "pygments_lexer": "ipython3",
   "version": "3.6.4"
  }
 },
 "nbformat": 4,
 "nbformat_minor": 2
}
